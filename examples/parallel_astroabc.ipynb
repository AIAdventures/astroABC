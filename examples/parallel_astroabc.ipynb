{
 "cells": [
  {
   "cell_type": "markdown",
   "metadata": {},
   "source": [
    "# Running astroABC in parallel"
   ]
  },
  {
   "cell_type": "markdown",
   "metadata": {},
   "source": [
    "There are three options for running astroABC in parallel.\n",
    "\n",
    "## MPI\n",
    "For running on a cluster it is best to use the mpi option and at run time specify the number of processors using\n",
    "\n",
    "mpirun -np # \n",
    "\n",
    "To use the mpi option in astroABC simply set 'mpi': True in the keywords for the class. "
   ]
  },
  {
   "cell_type": "code",
   "execution_count": null,
   "metadata": {
    "collapsed": true
   },
   "outputs": [],
   "source": [
    "prop={'dfunc':dist_metric, 'outfile':\"gaussian_example.txt\", 'verbose':1, 'adapt_t': True, 'mpi': True}"
   ]
  },
  {
   "cell_type": "markdown",
   "metadata": {},
   "source": [
    "You can then run the sample script in the examples folder to run the gaussian example on e.g. 16 processors using\n",
    "\n",
    "$> mpirun -np 16 python gaussian.py gaussian_params.ini"
   ]
  },
  {
   "cell_type": "markdown",
   "metadata": {},
   "source": [
    "## MPI with split communicator\n",
    "\n",
    "If the forward model simulation can be run in parallel, then it is possible to split the MPI communicator in astroABC such that some nodes run the sampler while other nodes are reserved for each particle to run a simulation in parallel.\n",
    "\n",
    "Again this is run using e.g. $> mpirun -np 64\n",
    "\n",
    "and in the astroabc settings you should specify both 'mpi':True and 'mpi_splitcomm': True."
   ]
  },
  {
   "cell_type": "code",
   "execution_count": null,
   "metadata": {
    "collapsed": true
   },
   "outputs": [],
   "source": [
    "prop={'dfunc':dist_metric, 'outfile':\"gaussian_example.txt\", 'verbose':1, 'adapt_t': True, 'pert_kernel':2,\\\n",
    "      'mpi':True,'mpi_splitcomm': True, 'num_abc': 4}"
   ]
  },
  {
   "cell_type": "markdown",
   "metadata": {},
   "source": [
    "An additional flag which needs to be set is 'num_abc', which specifies how many processors are to be allocated to the abc sampler. The rest of the processors are divided evenly amongst these processors to use in running the simulation. Note as processor 0 controls many of the communications it is not involved in the sampling.\n",
    "\n",
    "In the above example specifying:\n",
    "mpirun -np 64 and 'num_abc': 4 will run the sampler on 3 nodes in a pool, each of which have 20 separate processors available to them to launch the simulation.\n",
    "\n",
    "There is a working example of how to implement this in the [examples](https://github.com/EliseJ/astroABC/tree/master/examples) directory."
   ]
  },
  {
   "cell_type": "markdown",
   "metadata": {},
   "source": [
    "## Multiprocessing\n",
    "\n",
    "For smaller jobs the Python multiprocessing option is available which can spawn multiple processes but which are still bound within a single node.\n",
    "To use the mp option in astroABC simply set 'mp': True in the keywords for the class.\n",
    "An additional option is to specify the number of threads using 'num_proc':number of threads for mp setting.\n",
    "If none is specified then all available threads are used.\n"
   ]
  },
  {
   "cell_type": "code",
   "execution_count": null,
   "metadata": {
    "collapsed": true
   },
   "outputs": [],
   "source": [
    "#to run on 4 threads\n",
    "prop={'dfunc':dist_metric, 'outfile':\"gaussian_example.txt\", 'verbose':1, 'adapt_t': True, 'mp': True, 'num_proc':4}"
   ]
  }
 ],
 "metadata": {
  "kernelspec": {
   "display_name": "Python 2",
   "language": "python",
   "name": "python2"
  },
  "language_info": {
   "codemirror_mode": {
    "name": "ipython",
    "version": 2
   },
   "file_extension": ".py",
   "mimetype": "text/x-python",
   "name": "python",
   "nbconvert_exporter": "python",
   "pygments_lexer": "ipython2",
   "version": "2.7.12"
  }
 },
 "nbformat": 4,
 "nbformat_minor": 0
}
